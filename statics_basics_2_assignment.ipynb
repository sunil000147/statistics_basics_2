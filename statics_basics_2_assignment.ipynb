{
 "cells": [
  {
   "cell_type": "markdown",
   "id": "a66c9f49-6c10-4cce-a808-f95cf707bf5f",
   "metadata": {},
   "source": [
    "Q2. What is the difference between the mean, median, and mode? How are they used to measure the\n",
    "central tendency of a dataset?\n",
    "\n"
   ]
  },
  {
   "cell_type": "markdown",
   "id": "e7e45a25-05fb-4eb4-95ca-97f058a1d697",
   "metadata": {},
   "source": [
    "The mean is calculated as the sum of all values in the dataset divided by the number of values. It represents the arithmetic average of the dataset and is sensitive to extreme values or outliers.\n",
    "\n",
    "The median is the middle value of a sorted dataset. If there is an even number of values, the median is the average of the two middle values. The median is less sensitive to extreme values or outliers, making it a more robust measure of central tendency for skewed datasets.\n",
    "\n",
    "The mode is the value that occurs most frequently in the dataset. It is useful for identifying the most common value or values in a dataset, particularly when there are repeated values.\n",
    "\n",
    "To choose which measure of central tendency to use, it's important to consider the characteristics of the data, including its distribution, the presence of outliers, and the research question being addressed. In general, the mean is used for normally distributed data with no outliers, while the median is used for skewed data or data with outliers. The mode is useful for identifying the most common value or values in a dataset."
   ]
  },
  {
   "cell_type": "markdown",
   "id": "8b11b43b-c5c9-4336-b08f-d42783a3636e",
   "metadata": {},
   "source": [
    "Q3. Measure the three measures of central tendency for the given height data:\n",
    "[178,177,176,177,178.2,178,175,179,180,175,178.9,176.2,177,172.5,178,176.5]"
   ]
  },
  {
   "cell_type": "markdown",
   "id": "80e2fb2c-174a-4d15-9208-520abd07dbe9",
   "metadata": {},
   "source": [
    "To find the measures of central tendency (mean, median, and mode) for the given height data, we can use the following formulas:\n",
    "\n",
    "Mean = (sum of all values) / (number of values)\n",
    "\n",
    "Median = the middle value when the data is arranged in order\n",
    "\n",
    "Mode = the most frequently occurring value\n",
    "\n",
    "First, let's arrange the data in order:\n",
    "\n",
    "[172.5, 175, 175, 176, 176.2, 176.5, 177, 177, 178, 178, 178, 178.2, 178.9, 179, 180]\n",
    "\n",
    "Next, we can calculate the mean:\n",
    "\n",
    "Mean = (172.5 + 175 + 175 + 176 + 176.2 + 176.5 + 177 + 177 + 178 + 178 + 178 + 178.2 + 178.9 + 179 + 180) / 15\n",
    "= 176.9333 (rounded to four decimal places)\n",
    "\n",
    "The median is the middle value, which is 177.5 (the average of the two middle values 177 and 178).\n",
    "\n",
    "To find the mode, we can see that the value 178 appears most frequently (4 times), so the mode is 178.\n",
    "\n",
    "Therefore, the measures of central tendency for the given height data are:\n",
    "\n",
    "Mean = 176.9333\n",
    "Median = 177.5\n",
    "Mode = 178\n",
    "\n",
    "\n",
    "\n",
    "\n",
    "\n"
   ]
  },
  {
   "cell_type": "markdown",
   "id": "262c3c52-4a8d-4de6-b4a0-84cb851b0ec8",
   "metadata": {},
   "source": [
    "Q1. What are the three measures of central tendency?"
   ]
  },
  {
   "cell_type": "markdown",
   "id": "08497ce7-0c38-40e1-9e8b-3f158677a1ee",
   "metadata": {},
   "source": [
    "Mean - The mean is the most common measure of central tendency and is calculated by adding up all the values in a dataset and dividing by the total number of values. The mean is useful when the data is normally distributed and has no extreme values or outliers.\n",
    "\n",
    "Median - The median is the middle value of a dataset when the data is arranged in order. If the dataset has an even number of values, the median is the average of the two middle values. The median is useful when the data is skewed or has extreme values or outliers.\n",
    "\n",
    "Mode - The mode is the most common value in a dataset. In other words, it is the value that appears most frequently. The mode is useful for identifying the most common value or values in a dataset, particularly when there are repeated values.\n",
    "\n",
    "These three measures provide information about the center or typical value of a dataset and are used to summarize or describe the data. Which measure is most appropriate depends on the characteristics of the data and the research question being addressed."
   ]
  },
  {
   "cell_type": "markdown",
   "id": "b47c4286-61d7-4cce-803e-7d84999147fb",
   "metadata": {},
   "source": [
    "  #Q4. Find the standard deviation for the given data:\n",
    "l=[178,177,176,177,178.2,178,175,179,180,175,178.9,176.2,177,172.5,178,176.5]\n",
    "\n",
    "\n",
    "\n",
    "#  in mathematically\n",
    "\n",
    "s = sqrt(sum((x - x̄)^2)/(n - 1))\n",
    "\n",
    "where s is the standard deviation, x is each data point, x̄ is the sample mean, and n is the sample size.\n",
    "\n",
    "First, we calculate the sample mean:\n",
    "\n",
    "x̄ = (178 + 177 + 176 + 177 + 178.2 + 178 + 175 + 179 + 180 + 175 + 178.9 + 176.2 + 177 + 172.5 + 178 + 176.5) / 16\n",
    "\n",
    "x̄ = 177.31\n",
    "\n",
    "Next, we calculate the sum of squared deviations from the mean:\n",
    "\n",
    "sum((x - x̄)^2) = (178 - 177.31)^2 + (177 - 177.31)^2 + (176 - 177.31)^2 + (177 - 177.31)^2 + (178.2 - 177.31)^2 + (178 - 177.31)^2 + (175 - 177.31)^2 + (179 - 177.31)^2 + (180 - 177.31)^2 + (175 - 177.31)^2 + (178.9 - 177.31)^2 + (176.2 - 177.31)^2 + (177 - 177.31)^2 + (172.5 - 177.31)^2 + (178 - 177.31)^2 + (176.5 - 177.31)^2\n",
    "\n",
    "sum((x - x̄)^2) = 169.9285\n",
    "\n",
    "Finally, we calculate the standard deviation:\n",
    "\n",
    "s = sqrt(sum((x - x̄)^2)/(n - 1))\n",
    "\n",
    "s = sqrt(169.9285 / (16 - 1))\n",
    "\n",
    "s = sqrt(11.38)\n",
    "\n",
    "s = 3.37\n",
    "\n",
    "Therefore, the standard deviation for the given data is approximately 3.37."
   ]
  },
  {
   "cell_type": "markdown",
   "id": "b428328f-710a-4aee-b7b2-1a27cd07fa21",
   "metadata": {},
   "source": [
    "Q5. How are measures of dispersion such as range, variance, and standard deviation used to describe\n",
    "the spread of a dataset? Provide an example."
   ]
  },
  {
   "cell_type": "markdown",
   "id": "b0181236-1442-4496-afd9-6c73a4e1bfbd",
   "metadata": {},
   "source": [
    "Ans. Measures of dispersion such as range, variance, and standard deviation are used to describe the spread or variability of a dataset. They provide information about how much the individual values in the dataset deviate from the central tendency measure, such as the mean or median.\n",
    "\n",
    "For example, consider two datasets:\n",
    "\n",
    "Dataset A: [1, 2, 3, 4, 5]\n",
    "Dataset B: [1, 1, 3, 5, 9]\n",
    "\n",
    " The range of Dataset A is 4 (5-1), while the range of Dataset B is 8 (9-1). This indicates that the values in Dataset B are more spread out than the values in Dataset A.\n",
    "\n",
    "The variance and standard deviation of Dataset A are 2.5 and 1.58, respectively. The variance and standard deviation of Dataset B are 8.8 and 2.97, respectively. These values indicate that the values in Dataset B have a greater variability than the values in Dataset A.\n",
    "\n",
    "Overall, measures of dispersion are important for understanding the variability in a dataset and can provide insights into the nature of the data. In the example above, we see that while both datasets have the same mean, they have different levels of variability, which can have important implications for further analysis or interpretation of the data.\n",
    "\n",
    "\n",
    "\n"
   ]
  },
  {
   "cell_type": "markdown",
   "id": "c8eeba08-d945-41cc-80e7-d87ecb4d8f4b",
   "metadata": {},
   "source": [
    "Q6. What is a Venn diagram?"
   ]
  },
  {
   "cell_type": "markdown",
   "id": "4542557a-8f19-47ad-a253-a780577c410e",
   "metadata": {},
   "source": [
    "A Venn diagram is a graphical representation of the relationships between different sets of data. It consists of overlapping circles, each representing a set, with the overlap representing the elements that are common to the sets. The circles may be labeled with the names of the sets, and the areas within and outside the circles may be shaded or colored to indicate different properties of the sets.\n",
    "\n",
    "Venn diagrams are commonly used in mathematics, statistics, logic, and other fields to visualize the relationships between sets of data. They can be used to illustrate concepts such as set operations (union, intersection, complement), inclusion and exclusion, and overlap between different groups or categories.\n",
    "\n",
    "Venn diagrams can be used to solve problems involving set theory, such as determining the number of elements in a union or intersection of sets, identifying subsets, or determining whether two sets are equal or not. They can also be used to represent complex data sets or to visualize the relationships between different variables in a dataset"
   ]
  },
  {
   "cell_type": "markdown",
   "id": "9a83ae87-320e-4cc4-bf46-bdf652e74ff3",
   "metadata": {},
   "source": [
    "Q7. For the two given sets A = (2,3,4,5,6,7) & B = (0,2,6,8,10). Find:\n",
    "(i) A B\n",
    "(ii) A ⋃ B"
   ]
  },
  {
   "cell_type": "markdown",
   "id": "6b5d4b9c-0d38-4b0d-898c-228b6c09752d",
   "metadata": {},
   "source": [
    "A= {2,3,4,5,6,7}\n",
    "B = {0,2,6,8,10}\n",
    "\n",
    "# find intersecton of A and B.\n",
    "\n",
    "c = {2,6}\n",
    "\n",
    "# find the un union.\n",
    "\n",
    "d = {0,2,3,4,5,6,7,8,10}\n"
   ]
  },
  {
   "cell_type": "markdown",
   "id": "ad91364a-b20b-4256-9dbc-3cf51d527816",
   "metadata": {},
   "source": [
    "Q8. What do you understand about skewness in data?"
   ]
  },
  {
   "cell_type": "markdown",
   "id": "1ecd5ae8-5a2d-40f2-98fe-bfaa3f05a230",
   "metadata": {},
   "source": [
    "Skewness is a statistical measure that describes the degree of asymmetry of a probability distribution. In simpler terms, skewness refers to the extent to which a data set is skewed or \"lopsided\" towards one side of the mean.\n",
    "\n",
    "A symmetric distribution, such as a normal distribution, has a skewness of zero, indicating that the data is equally distributed around the mean. In contrast, a positively skewed distribution has a skewness greater than zero, indicating that the tail of the distribution is longer on the positive side of the mean. Conversely, a negatively skewed distribution has a skewness less than zero, indicating that the tail of the distribution is longer on the negative side of the mean.\n",
    "\n",
    "Skewness is an important measure in statistics because it can have a significant impact on the interpretation of data. In particular, skewed data can lead to biased estimates and incorrect inferences if the underlying distribution is not properly accounted for. Therefore, it is important to understand the skewness of data when analyzing and interpreting statistical "
   ]
  },
  {
   "cell_type": "markdown",
   "id": "053886cd-9705-4aa1-9bae-a9c41576debb",
   "metadata": {},
   "source": [
    "Q9. If a data is right skewed then what will be the position of median with respect to mean?"
   ]
  },
  {
   "cell_type": "markdown",
   "id": "f0560fcd-d03a-4e9e-8dcb-c898de8d1882",
   "metadata": {},
   "source": [
    "If a dataset is right-skewed, meaning the tail of the distribution is longer on the positive or right side of the mean, the median will be less than the mean.\n",
    "\n",
    "This is because the mean is influenced by the extreme values in the right tail, which pull the mean to the right. On the other hand, the median is not affected by extreme values and is more representative of the central tendency of the data. As a result, the median will be closer to the left, or smaller values, of the mean.\n",
    "\n",
    "For example, in a right-skewed dataset of exam scores, where the highest scores are 90 and 95, and the majority of the scores are around 60 to 70, the mean score would be higher than the median score. This is because the high scores in the tail would pull the mean to the right, while the median would remain closer to the lower scores."
   ]
  },
  {
   "cell_type": "markdown",
   "id": "379fcfb0-285e-4407-be68-e5f9ec20700c",
   "metadata": {},
   "source": [
    "Q10. Explain the difference between covariance and correlation. How are these measures used in\n",
    "statistical analysis?"
   ]
  },
  {
   "cell_type": "markdown",
   "id": "7f9cdef0-f81c-43d8-a1ad-a60fb40e78b9",
   "metadata": {},
   "source": [
    "Covariance and correlation are both statistical measures that describe the relationship between two variables. However, they have some important differences in their interpretation and usage.\n",
    "\n",
    "Covariance is a measure of the extent to which two variables vary together. It measures the degree to which the values of one variable change when the values of another variable change. A positive covariance indicates that the variables tend to move in the same direction, while a negative covariance indicates that the variables tend to move in opposite directions. However, covariance does not provide a standardized measure of association between variables and is difficult to interpret since it depends on the scales of measurement of the variables.\n",
    "\n",
    "On the other hand, correlation is a standardized measure of the relationship between two variables, which is not affected by the scale of measurement of the variables. It measures the degree of association between two variables and ranges between -1 and 1, where a correlation coefficient of 1 indicates a perfect positive correlation, -1 indicates a perfect negative correlation, and 0 indicates no correlation. Unlike covariance, correlation can be compared across different datasets and variables, and it is easier to interpret.\n",
    "\n",
    "Both covariance and correlation are used in statistical analysis to study the relationship between variables. Covariance is often used in descriptive statistics to calculate the strength and direction of the relationship between two variables, while correlation is used to measure the linear relationship between two variables and to determine the strength and direction of this relationship. Both measures are useful in multivariate statistical analysis, where the relationship between more than two variables is studied. However, correlation is preferred over covariance because of its standardized interpretation and ease of use."
   ]
  },
  {
   "cell_type": "markdown",
   "id": "1d96bab8-7fbe-4330-b112-e753ebf873c3",
   "metadata": {},
   "source": [
    "Q11. What is the formula for calculating the sample mean? Provide an example calculation for a\n",
    "dataset."
   ]
  },
  {
   "cell_type": "markdown",
   "id": "adf7806d-273c-4ac0-89e1-0ead867d2863",
   "metadata": {},
   "source": [
    "The sample mean is the average value of a set of observations or data points in a sample. The formula for calculating the sample mean is:\n",
    "\n",
    "Sample Mean = (Sum of all observations in the sample) / (Number of observations in the sample)\n",
    "\n",
    "In mathematical notation, this can be expressed as:\n",
    "\n",
    "x̄ = (∑ xi) / n\n",
    "\n",
    "where x̄ is the sample mean, xi represents the ith observation in the sample, ∑ represents the sum of all the observations in the sample, and n is the number of observations in the sample.\n",
    "\n",
    "For example, let's say we have the following dataset of 6 observations:\n",
    "\n",
    "{10, 20, 30, 40, 50, 60}\n",
    "\n",
    "To calculate the sample mean, we first add up all the observations in the sample:\n",
    "\n",
    "10 + 20 + 30 + 40 + 50 + 60 = 210\n",
    "\n",
    "Then, we divide the sum by the number of observations in the sample, which is 6:\n",
    "\n",
    "210 / 6 = 35\n",
    "\n",
    "Therefore, the sample mean for this dataset is 35."
   ]
  },
  {
   "cell_type": "markdown",
   "id": "03b0df45-592c-4372-9440-eb093bed6ad4",
   "metadata": {},
   "source": [
    "Q12. For a normal distribution data what is the relationship between its measure of central tendency?"
   ]
  },
  {
   "cell_type": "markdown",
   "id": "edfef44e-1375-40ee-a091-4bcf8af5369e",
   "metadata": {},
   "source": [
    "For a normal distribution, the measures of central tendency are related in the following way:\n",
    "\n",
    "Mean: The mean is the arithmetic average of the data points and is located at the center of the distribution. In a normal distribution, the mean, median, and mode are equal.\n",
    "\n",
    "Median: The median is the middle value in the dataset when the data is arranged in ascending or descending order. In a normal distribution, the median is equal to the mean.\n",
    "\n",
    "Mode: The mode is the value that occurs with the highest frequency in the dataset. In a normal distribution, the mode is also equal to the mean and median.\n",
    "\n",
    "In summary, for a normal distribution, the mean, median, and mode are equal and located at the center of the distribution. This symmetry is a characteristic of the normal distribution and is often referred to as the \"bell curve\" shape."
   ]
  },
  {
   "cell_type": "markdown",
   "id": "4acb9659-ee06-415e-9f6a-b7ce27b15093",
   "metadata": {},
   "source": [
    "Q13. How is covariance different from correlation?\n",
    "\n",
    "ans. Covariance and correlation are two statistical measures that describe the relationship between two variables. However, they differ in their interpretation and calculation.\n",
    "\n",
    "Covariance measures the degree to which two variables vary together. It measures the extent to which the values of one variable change when the values of another variable change. A positive covariance indicates that the variables tend to move in the same direction, while a negative covariance indicates that the variables tend to move in opposite directions. However, covariance does not provide a standardized measure of association between variables and is difficult to interpret since it depends on the scales of measurement of the variables. The formula for covariance is:\n",
    "\n",
    "Cov(X, Y) = E[(X - E[X])(Y - E[Y])]\n",
    "\n",
    "where X and Y are the two variables, E[X] and E[Y] are their respective means, and E[] represents the expected value.\n",
    "\n",
    "Correlation, on the other hand, is a standardized measure of the relationship between two variables, which is not affected by the scale of measurement of the variables. It measures the degree of association between two variables and ranges between -1 and 1, where a correlation coefficient of 1 indicates a perfect positive correlation, -1 indicates a perfect negative correlation, and 0 indicates no correlation. Unlike covariance, correlation can be compared across different datasets and variables, and it is easier to interpret. The formula for correlation is:\n",
    "\n",
    "r(X, Y) = Cov(X, Y) / (SD[X] * SD[Y])\n",
    "\n",
    "where SD[X] and SD[Y] are the standard deviations of X and Y, respectively.\n",
    "\n",
    "In summary, covariance measures the degree to which two variables vary together, while correlation measures the strength and direction of their association. While both measures are useful in statistical analysis, correlation is preferred over covariance because it is a standardized measure and is easier to interpret."
   ]
  },
  {
   "cell_type": "markdown",
   "id": "3a5ed6d7-e100-4694-a061-5ccfb546bec4",
   "metadata": {},
   "source": [
    "Q14. How do outliers affect measures of central tendency and dispersion? Provide an example.\n",
    "\n",
    "Ans.Outliers are data points that lie outside the typical range of values in a dataset. Outliers can significantly affect measures of central tendency and dispersion, such as the mean, median, and standard deviation.\n",
    "\n",
    "In terms of measures of central tendency, outliers can have a large impact on the mean, but little effect on the median. This is because the mean is heavily influenced by extreme values, while the median is more resistant to outliers. For example, consider the following dataset of test scores:\n",
    "\n",
    "70, 75, 80, 85, 90, 95, 100, 150\n",
    "\n",
    "The mean of this dataset is 92.5, but the outlier value of 150 is heavily inflating the mean. However, the median is 87.5, which is more representative of the typical test score in this dataset.\n",
    "\n",
    "In terms of measures of dispersion, outliers can have a large effect on the standard deviation. The standard deviation is a measure of the spread of the data, and outliers can increase the spread and cause the standard deviation to be larger. For example, consider the following dataset of salaries:\n",
    "\n",
    "$50,000, $55,000, $60,000, $65,000, $70,000, $75,000, $80,000, $200,000\n",
    "\n",
    "The standard deviation of this dataset is $47,720, which is heavily influenced by the outlier value of $200,000. Removing the outlier value results in a standard deviation of $12,856, which is more representative of the spread of salaries in this dataset.\n",
    "\n",
    "In summary, outliers can significantly affect measures of central tendency and dispersion. It is important to identify and handle outliers appropriately in statistical analysis to avoid biased results."
   ]
  },
  {
   "cell_type": "code",
   "execution_count": null,
   "id": "be47fff6-c64f-49bd-a389-2087b1e28ff7",
   "metadata": {},
   "outputs": [],
   "source": []
  }
 ],
 "metadata": {
  "kernelspec": {
   "display_name": "Python 3 (ipykernel)",
   "language": "python",
   "name": "python3"
  },
  "language_info": {
   "codemirror_mode": {
    "name": "ipython",
    "version": 3
   },
   "file_extension": ".py",
   "mimetype": "text/x-python",
   "name": "python",
   "nbconvert_exporter": "python",
   "pygments_lexer": "ipython3",
   "version": "3.10.8"
  }
 },
 "nbformat": 4,
 "nbformat_minor": 5
}
